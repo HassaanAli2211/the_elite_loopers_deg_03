{
 "cells": [
  {
   "cell_type": "code",
   "execution_count": 1,
   "id": "3ac48fd2",
   "metadata": {
    "tags": []
   },
   "outputs": [],
   "source": [
    "import pyspark\n",
    "from pyspark.sql import SparkSession\n",
    "from pyspark.sql.streaming import StreamingQuery\n",
    "import pyspark.sql.functions as F\n",
    "import pyspark.sql.types as T\n",
    "from pyspark.sql.functions import *"
   ]
  },
  {
   "cell_type": "code",
   "execution_count": 2,
   "id": "7981b205",
   "metadata": {
    "tags": []
   },
   "outputs": [],
   "source": [
    "spark = (\n",
    "    SparkSession.builder.master(\"local[*]\")\n",
    "    .appName(\"Tutorial App\")\n",
    "    .config(\"spark.jars.packages\", \"org.apache.spark:spark-sql-kafka-0-10_2.12:3.3.1\")\n",
    "    .getOrCreate()\n",
    ")"
   ]
  },
  {
   "cell_type": "code",
   "execution_count": 3,
   "id": "a363f224",
   "metadata": {
    "tags": []
   },
   "outputs": [],
   "source": [
    "carbon_sense_reader= spark.readStream \\\n",
    "                          .format(\"kafka\") \\\n",
    "                          .option(\"kafka.bootstrap.servers\", \"kafka:29092\") \\\n",
    "                          .option(\"subscribe\", \"carbonsense\")\\\n",
    "                          .option(\"startingOffsets\", \"latest\")"
   ]
  },
  {
   "cell_type": "code",
   "execution_count": null,
   "id": "44f2aa31",
   "metadata": {
    "tags": []
   },
   "outputs": [],
   "source": [
    "moisture_mate_reader= spark.readStream \\\n",
    "                          .format(\"kafka\") \\\n",
    "                          .option(\"kafka.bootstrap.servers\", \"kafka:29092\") \\\n",
    "                          .option(\"subscribe\", \"moisturemate\")\\\n",
    "                          .option(\"startingOffsets\", \"latest\")"
   ]
  },
  {
   "cell_type": "code",
   "execution_count": null,
   "id": "cdba8707",
   "metadata": {},
   "outputs": [],
   "source": [
    "lux_meter_reader= spark.readStream \\\n",
    "                          .format(\"kafka\") \\\n",
    "                          .option(\"kafka.bootstrap.servers\", \"kafka:29092\") \\\n",
    "                          .option(\"subscribe\", \"luxmeter\")"
   ]
  },
  {
   "cell_type": "code",
   "execution_count": null,
   "id": "12fbd116",
   "metadata": {
    "tags": []
   },
   "outputs": [],
   "source": [
    "carbon_sense_df= carbon_sense_reader.load()"
   ]
  },
  {
   "cell_type": "code",
   "execution_count": null,
   "id": "74cac981",
   "metadata": {
    "tags": []
   },
   "outputs": [],
   "source": [
    "moisture_mate_df=moisture_mate_reader.load()"
   ]
  },
  {
   "cell_type": "code",
   "execution_count": null,
   "id": "7c1ea194",
   "metadata": {},
   "outputs": [],
   "source": [
    "lux_meter_df=lux_meter_reader.load()"
   ]
  },
  {
   "cell_type": "code",
   "execution_count": null,
   "id": "edbb0f59",
   "metadata": {
    "tags": []
   },
   "outputs": [],
   "source": [
    "carbon_sense_schema = StructType([\n",
    "  StructField(\"timestamp\", T.TimestampType()),\n",
    "  StructField(\"room_id\", StringType()),\n",
    "  StructField(\"co2\", FloatType())\n",
    "])"
   ]
  },
  {
   "cell_type": "code",
   "execution_count": null,
   "id": "c10e4fa5",
   "metadata": {
    "tags": []
   },
   "outputs": [],
   "source": [
    "moisture_mate_schema = StructType([\n",
    "  StructField(\"timestamp\", T.TimestampType()),\n",
    "  StructField(\"room_id\", StringType()),\n",
    "  StructField(\"humidity\", FloatType()),\n",
    "  StructField(\"humidity_ratio\", FloatType())\n",
    "])"
   ]
  },
  {
   "cell_type": "code",
   "execution_count": null,
   "id": "6584323b",
   "metadata": {},
   "outputs": [],
   "source": [
    "lux_meter_schema = StructType([\n",
    "  StructField(\"room_id\", StringType()),\n",
    "  StructField(\"measurements\", StructType([\n",
    "    StructField(\"timestamp\", TimestampType()),\n",
    "    StructField(\"light_level\", FloatType())\n",
    "  ]))\n",
    "])"
   ]
  },
  {
   "cell_type": "code",
   "execution_count": null,
   "id": "ad14dd8e-5f3a-47a3-850f-0b6fe656b617",
   "metadata": {
    "tags": []
   },
   "outputs": [],
   "source": [
    "lux_meter= lux_meter_df.withColumn(\"message_content\", F.from_json(F.col(\"value\").cast(\"string\"),lux_meter_schema))\n",
    "carbon_sense= carbon_sense_df.withColumn(\"message_content\", F.from_json(F.col(\"value\").cast(\"string\"),carbon_sense_schema))\n",
    "moisture_mate= moisture_mate_df.withColumn(\"message_content\", F.from_json(F.col(\"value\").cast(\"string\"),moisture_mate_schema))"
   ]
  },
  {
   "cell_type": "code",
   "execution_count": null,
   "id": "1ab58de3-3e40-4a32-b163-882a9d58d077",
   "metadata": {
    "tags": []
   },
   "outputs": [],
   "source": [
    "carbon_sense = carbon_sense.withColumn(\"value\", col(\"value\").cast(\"string\"))\n",
    "carbon_sense = carbon_sense.select(F.from_json(carbon_sense.value, carbon_sense_schema).alias(\"data\"))\n",
    "carbon_sense = carbon_sense.select(\"data.*\")"
   ]
  },
  {
   "cell_type": "code",
   "execution_count": null,
   "id": "ef789b06-b6bd-4577-9a55-9398b4e1866c",
   "metadata": {
    "tags": []
   },
   "outputs": [],
   "source": [
    "moisture_mate = moisture_mate.withColumn(\"value\", col(\"value\").cast(\"string\"))\n",
    "moisture_mate = moisture_mate.select(F.from_json(moisture_mate.value, moisture_mate_schema).alias(\"data\"))\n",
    "moisture_mate = moisture_mate.select(\"data.*\")"
   ]
  },
  {
   "cell_type": "code",
   "execution_count": null,
   "id": "f54a4d5e",
   "metadata": {},
   "outputs": [],
   "source": [
    "lux_meter = lux_meter.withColumn(\"value\", col(\"value\").cast(\"string\"))\n",
    "lux_meter = lux_meter.select(F.from_json(lux_meter.value, lux_meter_schema).alias(\"data\"))\n",
    "lux_meter = lux_meter.select(\"data.*\")"
   ]
  },
  {
   "cell_type": "code",
   "execution_count": null,
   "id": "8c23ecd3",
   "metadata": {
    "tags": []
   },
   "outputs": [],
   "source": [
    "query_carbon = carbon_sense.writeStream \\\n",
    "  .queryName(\"carbonsense_query\")\\\n",
    "  .outputMode(\"append\") \\\n",
    "  .format(\"console\") \\\n",
    "  .start()\n",
    "query_carbon.status"
   ]
  },
  {
   "cell_type": "code",
   "execution_count": null,
   "id": "1ec01d1d",
   "metadata": {
    "tags": []
   },
   "outputs": [
    {
     "data": {
      "text/plain": [
       "<pyspark.sql.streaming.StreamingQuery at 0x7f81240f3790>"
      ]
     },
     "execution_count": 14,
     "metadata": {},
     "output_type": "execute_result"
    }
   ],
   "source": [
    "query_moisture = moisture_mate.writeStream \\\n",
    "  .queryName(\"moisturemate_query\")\\\n",
    "  .outputMode(\"append\") \\\n",
    "  .format(\"console\") \\\n",
    "  .start()\n",
    "query_moisture.status"
   ]
  },
  {
   "cell_type": "code",
   "execution_count": null,
   "id": "2fe63cac",
   "metadata": {},
   "outputs": [],
   "source": [
    "query_lux = lux_meter.writeStream \\\n",
    "  .queryName(\"lux_meter_query\")\\\n",
    "  .outputMode(\"append\") \\\n",
    "  .format(\"console\") \\\n",
    "  .start()\n",
    "query_lux.status"
   ]
  },
  {
   "cell_type": "code",
   "execution_count": null,
   "id": "631f3cc8-6139-4f7c-9de2-08f174f25fd2",
   "metadata": {},
   "outputs": [],
   "source": []
  }
 ],
 "metadata": {
  "kernelspec": {
   "display_name": "Python 3 (ipykernel)",
   "language": "python",
   "name": "python3"
  },
  "language_info": {
   "codemirror_mode": {
    "name": "ipython",
    "version": 3
   },
   "file_extension": ".py",
   "mimetype": "text/x-python",
   "name": "python",
   "nbconvert_exporter": "python",
   "pygments_lexer": "ipython3",
   "version": "3.10.6"
  }
 },
 "nbformat": 4,
 "nbformat_minor": 5
}
