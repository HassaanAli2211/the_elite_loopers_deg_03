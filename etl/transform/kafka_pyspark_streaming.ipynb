{
 "cells": [
  {
   "cell_type": "code",
   "execution_count": 1,
   "id": "3ac48fd2",
   "metadata": {
    "tags": []
   },
   "outputs": [],
   "source": [
    "import pyspark\n",
    "from pyspark.sql import SparkSession\n",
    "from pyspark.sql.types import *\n",
    "from pyspark.sql.functions import *\n",
    "from pyspark.sql.streaming import StreamingQuery\n",
    "from pyspark.sql import SparkSession\n",
    "import pyspark.sql.functions as F\n",
    "import pyspark.sql.types as T\n",
    "from pyspark.sql.functions import *"
   ]
  },
  {
   "cell_type": "code",
   "execution_count": 2,
   "id": "7981b205",
   "metadata": {
    "tags": []
   },
   "outputs": [],
   "source": [
    " spark = (\n",
    "    SparkSession.builder.master(\"local[1]\")\n",
    "    .appName(\"Tutorial App\")\n",
    "    .config(\"spark.jars.packages\", \"org.apache.spark:spark-sql-kafka-0-10_2.12:3.3.1\")\n",
    "    .getOrCreate()\n",
    ")"
   ]
  },
  {
   "cell_type": "code",
   "execution_count": 3,
   "id": "a363f224",
   "metadata": {
    "tags": []
   },
   "outputs": [],
   "source": [
    "carbon_sense= spark.readStream \\\n",
    "                          .format(\"kafka\") \\\n",
    "                          .option(\"kafka.bootstrap.servers\", \"kafka:29092\") \\\n",
    "                          .option(\"subscribe\", \"carbonsense\")"
   ]
  },
  {
   "cell_type": "code",
   "execution_count": 4,
   "id": "44f2aa31",
   "metadata": {
    "tags": []
   },
   "outputs": [],
   "source": [
    "moisture_mate= spark.readStream \\\n",
    "                          .format(\"kafka\") \\\n",
    "                          .option(\"kafka.bootstrap.servers\", \"kafka:29092\") \\\n",
    "                          .option(\"subscribe\", \"moisturemate\")"
   ]
  },
  {
   "cell_type": "code",
   "execution_count": 5,
   "id": "12fbd116",
   "metadata": {
    "tags": []
   },
   "outputs": [],
   "source": [
    "carbon_sense= carbon_sense.load()"
   ]
  },
  {
   "cell_type": "code",
   "execution_count": 6,
   "id": "74cac981",
   "metadata": {
    "tags": []
   },
   "outputs": [],
   "source": [
    "moisture_mate=moisture_mate.load()"
   ]
  },
  {
   "cell_type": "code",
   "execution_count": 7,
   "id": "edbb0f59",
   "metadata": {
    "tags": []
   },
   "outputs": [],
   "source": [
    "carbon_sense_schema = StructType([\n",
    "  StructField(\"timestamp\", TimestampType()),\n",
    "  StructField(\"room_id\", StringType()),\n",
    "  StructField(\"co2\", FloatType())\n",
    "])"
   ]
  },
  {
   "cell_type": "code",
   "execution_count": 8,
   "id": "c10e4fa5",
   "metadata": {
    "tags": []
   },
   "outputs": [],
   "source": [
    "moisture_mate_schema = StructType([\n",
    "  StructField(\"timestamp\", TimestampType()),\n",
    "  StructField(\"room_id\", StringType()),\n",
    "  StructField(\"humidity\", FloatType()),\n",
    "  StructField(\"humidity_ratio\", FloatType())\n",
    "])"
   ]
  },
  {
   "cell_type": "code",
   "execution_count": 9,
   "id": "ad14dd8e-5f3a-47a3-850f-0b6fe656b617",
   "metadata": {
    "tags": []
   },
   "outputs": [],
   "source": [
    "\n",
    "carbon_sense= carbon_sense.withColumn(\"message_content\", F.from_json(F.col(\"value\").cast(\"string\"),carbon_sense_schema))\n",
    "moisture_mate= moisture_mate.withColumn(\"message_content\", F.from_json(F.col(\"value\").cast(\"string\"),moisture_mate_schema))"
   ]
  },
  {
   "cell_type": "code",
   "execution_count": 10,
   "id": "1ab58de3-3e40-4a32-b163-882a9d58d077",
   "metadata": {
    "tags": []
   },
   "outputs": [],
   "source": [
    "carbon_sense = carbon_sense.selectExpr(\"CAST(value AS STRING)\")\n",
    "carbon_sense = carbon_sense.select(from_json(carbon_sense.value, carbon_sense_schema).alias(\"data\"))\n",
    "carbon_sense = carbon_sense.select(\"data.*\")"
   ]
  },
  {
   "cell_type": "code",
   "execution_count": 11,
   "id": "ef789b06-b6bd-4577-9a55-9398b4e1866c",
   "metadata": {
    "tags": []
   },
   "outputs": [],
   "source": [
    "moisture_mate = moisture_mate.selectExpr(\"CAST(value AS STRING)\", \"timestamp\")\n",
    "moisture_mate = moisture_mate.select(from_json(moisture_mate.value, moisture_mate_schema).alias(\"data\"))\n",
    "moisture_mate = moisture_mate.select(\"data.*\")"
   ]
  },
  {
   "cell_type": "code",
   "execution_count": 12,
   "id": "fe1fa75a-5920-42f4-b2b6-d500ae9a739e",
   "metadata": {
    "tags": []
   },
   "outputs": [],
   "source": [
    "joined_df = moisture_mate.join(carbon_sense, on=[\"room_id\", \"timestamp\"])"
   ]
  },
  {
   "cell_type": "code",
   "execution_count": 13,
   "id": "8c23ecd3",
   "metadata": {
    "tags": []
   },
   "outputs": [],
   "source": [
    "query = joined_df.writeStream \\\n",
    "  .outputMode(\"append\") \\\n",
    "  .format(\"console\") \\\n",
    "  .start()"
   ]
  },
  {
   "cell_type": "code",
   "execution_count": 14,
   "id": "1ec01d1d",
   "metadata": {
    "tags": []
   },
   "outputs": [
    {
     "data": {
      "text/plain": [
       "<pyspark.sql.streaming.StreamingQuery at 0x7f81240f3790>"
      ]
     },
     "execution_count": 14,
     "metadata": {},
     "output_type": "execute_result"
    }
   ],
   "source": [
    "query"
   ]
  },
  {
   "cell_type": "code",
   "execution_count": null,
   "id": "631f3cc8-6139-4f7c-9de2-08f174f25fd2",
   "metadata": {},
   "outputs": [],
   "source": []
  }
 ],
 "metadata": {
  "kernelspec": {
   "display_name": "Python 3 (ipykernel)",
   "language": "python",
   "name": "python3"
  },
  "language_info": {
   "codemirror_mode": {
    "name": "ipython",
    "version": 3
   },
   "file_extension": ".py",
   "mimetype": "text/x-python",
   "name": "python",
   "nbconvert_exporter": "python",
   "pygments_lexer": "ipython3",
   "version": "3.10.9"
  }
 },
 "nbformat": 4,
 "nbformat_minor": 5
}
